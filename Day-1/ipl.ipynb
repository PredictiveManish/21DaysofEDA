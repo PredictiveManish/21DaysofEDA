{
 "cells": [
  {
   "cell_type": "code",
   "execution_count": 1,
   "metadata": {},
   "outputs": [],
   "source": [
    "import pandas as pd \n",
    "import numpy as np \n",
    "import seaborn as sns\n",
    "from matplotlib import pyplot as plt "
   ]
  },
  {
   "cell_type": "code",
   "execution_count": 2,
   "metadata": {},
   "outputs": [],
   "source": [
    "csk = pd.read_csv('CSK_Players_List.csv')\n",
    "mi = pd.read_csv('MI_Players_List.csv')\n",
    "lsg = pd.read_csv('LSG_Players_List.csv')\n",
    "dc = pd.read_csv('DC_Players_List.csv')\n",
    "kkr = pd.read_csv('KKR_Players_List.csv')\n",
    "rr = pd.read_csv('RR_Players_List.csv')\n",
    "pbks = pd.read_csv('PBKS_Players_List.csv')\n",
    "rcb = pd.read_csv('RCB_Players_List.csv')\n",
    "gt = pd.read_csv('GT_Players_List.csv')\n",
    "srh = pd.read_csv('SRH_Players_List.csv')\n"
   ]
  },
  {
   "cell_type": "code",
   "execution_count": 3,
   "metadata": {},
   "outputs": [
    {
     "name": "stdout",
     "output_type": "stream",
     "text": [
      "<class 'pandas.core.frame.DataFrame'>\n",
      "RangeIndex: 20 entries, 0 to 19\n",
      "Data columns (total 5 columns):\n",
      " #   Column           Non-Null Count  Dtype \n",
      "---  ------           --------------  ----- \n",
      " 0   Sr. No.          20 non-null     int64 \n",
      " 1   Player           20 non-null     object\n",
      " 2   Base Price       20 non-null     int64 \n",
      " 3   Winning Bid      20 non-null     int64 \n",
      " 4   Capped/Uncapped  20 non-null     object\n",
      "dtypes: int64(3), object(2)\n",
      "memory usage: 932.0+ bytes\n"
     ]
    }
   ],
   "source": [
    "csk.info()"
   ]
  },
  {
   "cell_type": "code",
   "execution_count": 4,
   "metadata": {},
   "outputs": [
    {
     "data": {
      "text/plain": [
       "Index(['Sr. No.', 'Player', 'Base Price', 'Winning Bid', 'Capped/Uncapped'], dtype='object')"
      ]
     },
     "execution_count": 4,
     "metadata": {},
     "output_type": "execute_result"
    }
   ],
   "source": [
    "csk.columns"
   ]
  },
  {
   "cell_type": "code",
   "execution_count": 5,
   "metadata": {},
   "outputs": [
    {
     "data": {
      "text/html": [
       "<div>\n",
       "<style scoped>\n",
       "    .dataframe tbody tr th:only-of-type {\n",
       "        vertical-align: middle;\n",
       "    }\n",
       "\n",
       "    .dataframe tbody tr th {\n",
       "        vertical-align: top;\n",
       "    }\n",
       "\n",
       "    .dataframe thead th {\n",
       "        text-align: right;\n",
       "    }\n",
       "</style>\n",
       "<table border=\"1\" class=\"dataframe\">\n",
       "  <thead>\n",
       "    <tr style=\"text-align: right;\">\n",
       "      <th></th>\n",
       "      <th>Sr. No.</th>\n",
       "      <th>Player</th>\n",
       "      <th>Base Price</th>\n",
       "      <th>Winning Bid</th>\n",
       "      <th>Capped/Uncapped</th>\n",
       "    </tr>\n",
       "  </thead>\n",
       "  <tbody>\n",
       "    <tr>\n",
       "      <th>14</th>\n",
       "      <td>15</td>\n",
       "      <td>Andre Siddarth</td>\n",
       "      <td>3000000</td>\n",
       "      <td>3000000</td>\n",
       "      <td>Uncapped</td>\n",
       "    </tr>\n",
       "    <tr>\n",
       "      <th>11</th>\n",
       "      <td>12</td>\n",
       "      <td>Jamie Overton</td>\n",
       "      <td>15000000</td>\n",
       "      <td>15000000</td>\n",
       "      <td>Capped</td>\n",
       "    </tr>\n",
       "    <tr>\n",
       "      <th>10</th>\n",
       "      <td>11</td>\n",
       "      <td>Deepak Hooda</td>\n",
       "      <td>7500000</td>\n",
       "      <td>17000000</td>\n",
       "      <td>Capped</td>\n",
       "    </tr>\n",
       "    <tr>\n",
       "      <th>19</th>\n",
       "      <td>20</td>\n",
       "      <td>Shaik Rasheed</td>\n",
       "      <td>3000000</td>\n",
       "      <td>3000000</td>\n",
       "      <td>Uncapped</td>\n",
       "    </tr>\n",
       "    <tr>\n",
       "      <th>8</th>\n",
       "      <td>9</td>\n",
       "      <td>Gurjapneet Singh</td>\n",
       "      <td>3000000</td>\n",
       "      <td>22000000</td>\n",
       "      <td>Uncapped</td>\n",
       "    </tr>\n",
       "  </tbody>\n",
       "</table>\n",
       "</div>"
      ],
      "text/plain": [
       "    Sr. No.            Player  Base Price  Winning Bid Capped/Uncapped\n",
       "14       15    Andre Siddarth     3000000      3000000        Uncapped\n",
       "11       12     Jamie Overton    15000000     15000000          Capped\n",
       "10       11      Deepak Hooda     7500000     17000000          Capped\n",
       "19       20     Shaik Rasheed     3000000      3000000        Uncapped\n",
       "8         9  Gurjapneet Singh     3000000     22000000        Uncapped"
      ]
     },
     "execution_count": 5,
     "metadata": {},
     "output_type": "execute_result"
    }
   ],
   "source": [
    "csk.sample(5)"
   ]
  },
  {
   "cell_type": "code",
   "execution_count": 6,
   "metadata": {},
   "outputs": [],
   "source": [
    "total_money_used = sum(csk['Winning Bid'][0:])"
   ]
  },
  {
   "cell_type": "code",
   "execution_count": 7,
   "metadata": {},
   "outputs": [
    {
     "name": "stdout",
     "output_type": "stream",
     "text": [
      "The total money spent by CSK for buying players in auction is 549500000\n"
     ]
    }
   ],
   "source": [
    "print(f\"The total money spent by CSK for buying players in auction is {total_money_used}\")"
   ]
  },
  {
   "cell_type": "code",
   "execution_count": 8,
   "metadata": {},
   "outputs": [
    {
     "data": {
      "text/html": [
       "<div>\n",
       "<style scoped>\n",
       "    .dataframe tbody tr th:only-of-type {\n",
       "        vertical-align: middle;\n",
       "    }\n",
       "\n",
       "    .dataframe tbody tr th {\n",
       "        vertical-align: top;\n",
       "    }\n",
       "\n",
       "    .dataframe thead th {\n",
       "        text-align: right;\n",
       "    }\n",
       "</style>\n",
       "<table border=\"1\" class=\"dataframe\">\n",
       "  <thead>\n",
       "    <tr style=\"text-align: right;\">\n",
       "      <th></th>\n",
       "      <th>Sr. No.</th>\n",
       "      <th>Player</th>\n",
       "      <th>Base Price</th>\n",
       "      <th>Winning Bid</th>\n",
       "      <th>Capped/Uncapped</th>\n",
       "    </tr>\n",
       "  </thead>\n",
       "  <tbody>\n",
       "    <tr>\n",
       "      <th>0</th>\n",
       "      <td>1</td>\n",
       "      <td>Noor Ahmad</td>\n",
       "      <td>20000000</td>\n",
       "      <td>100000000</td>\n",
       "      <td>Capped</td>\n",
       "    </tr>\n",
       "    <tr>\n",
       "      <th>1</th>\n",
       "      <td>2</td>\n",
       "      <td>Ravichandaran Ashwin</td>\n",
       "      <td>20000000</td>\n",
       "      <td>97500000</td>\n",
       "      <td>Capped</td>\n",
       "    </tr>\n",
       "    <tr>\n",
       "      <th>2</th>\n",
       "      <td>3</td>\n",
       "      <td>Devon Conway</td>\n",
       "      <td>20000000</td>\n",
       "      <td>62500000</td>\n",
       "      <td>Capped</td>\n",
       "    </tr>\n",
       "    <tr>\n",
       "      <th>3</th>\n",
       "      <td>4</td>\n",
       "      <td>Syed Khaleel Ahmed</td>\n",
       "      <td>20000000</td>\n",
       "      <td>48000000</td>\n",
       "      <td>Capped</td>\n",
       "    </tr>\n",
       "    <tr>\n",
       "      <th>4</th>\n",
       "      <td>5</td>\n",
       "      <td>Rachin Ravindra</td>\n",
       "      <td>15000000</td>\n",
       "      <td>40000000</td>\n",
       "      <td>Capped</td>\n",
       "    </tr>\n",
       "    <tr>\n",
       "      <th>5</th>\n",
       "      <td>6</td>\n",
       "      <td>Anshul Kamboj</td>\n",
       "      <td>3000000</td>\n",
       "      <td>34000000</td>\n",
       "      <td>Uncapped</td>\n",
       "    </tr>\n",
       "    <tr>\n",
       "      <th>6</th>\n",
       "      <td>7</td>\n",
       "      <td>Rahul Tripathi</td>\n",
       "      <td>7500000</td>\n",
       "      <td>34000000</td>\n",
       "      <td>Capped</td>\n",
       "    </tr>\n",
       "    <tr>\n",
       "      <th>7</th>\n",
       "      <td>8</td>\n",
       "      <td>Sam Curran</td>\n",
       "      <td>20000000</td>\n",
       "      <td>24000000</td>\n",
       "      <td>Capped</td>\n",
       "    </tr>\n",
       "    <tr>\n",
       "      <th>8</th>\n",
       "      <td>9</td>\n",
       "      <td>Gurjapneet Singh</td>\n",
       "      <td>3000000</td>\n",
       "      <td>22000000</td>\n",
       "      <td>Uncapped</td>\n",
       "    </tr>\n",
       "    <tr>\n",
       "      <th>9</th>\n",
       "      <td>10</td>\n",
       "      <td>Nathan Ellis</td>\n",
       "      <td>12500000</td>\n",
       "      <td>20000000</td>\n",
       "      <td>Capped</td>\n",
       "    </tr>\n",
       "    <tr>\n",
       "      <th>10</th>\n",
       "      <td>11</td>\n",
       "      <td>Deepak Hooda</td>\n",
       "      <td>7500000</td>\n",
       "      <td>17000000</td>\n",
       "      <td>Capped</td>\n",
       "    </tr>\n",
       "    <tr>\n",
       "      <th>11</th>\n",
       "      <td>12</td>\n",
       "      <td>Jamie Overton</td>\n",
       "      <td>15000000</td>\n",
       "      <td>15000000</td>\n",
       "      <td>Capped</td>\n",
       "    </tr>\n",
       "    <tr>\n",
       "      <th>12</th>\n",
       "      <td>13</td>\n",
       "      <td>Vijay Shankar</td>\n",
       "      <td>3000000</td>\n",
       "      <td>12000000</td>\n",
       "      <td>Uncapped</td>\n",
       "    </tr>\n",
       "    <tr>\n",
       "      <th>13</th>\n",
       "      <td>14</td>\n",
       "      <td>Vansh Bedi</td>\n",
       "      <td>3000000</td>\n",
       "      <td>5500000</td>\n",
       "      <td>Uncapped</td>\n",
       "    </tr>\n",
       "    <tr>\n",
       "      <th>14</th>\n",
       "      <td>15</td>\n",
       "      <td>Andre Siddarth</td>\n",
       "      <td>3000000</td>\n",
       "      <td>3000000</td>\n",
       "      <td>Uncapped</td>\n",
       "    </tr>\n",
       "    <tr>\n",
       "      <th>15</th>\n",
       "      <td>16</td>\n",
       "      <td>Shreyas Gopal</td>\n",
       "      <td>3000000</td>\n",
       "      <td>3000000</td>\n",
       "      <td>Uncapped</td>\n",
       "    </tr>\n",
       "    <tr>\n",
       "      <th>16</th>\n",
       "      <td>17</td>\n",
       "      <td>Ramakrishna Ghosh</td>\n",
       "      <td>3000000</td>\n",
       "      <td>3000000</td>\n",
       "      <td>Uncapped</td>\n",
       "    </tr>\n",
       "    <tr>\n",
       "      <th>17</th>\n",
       "      <td>18</td>\n",
       "      <td>Kamlesh Nagarkoti</td>\n",
       "      <td>3000000</td>\n",
       "      <td>3000000</td>\n",
       "      <td>Uncapped</td>\n",
       "    </tr>\n",
       "    <tr>\n",
       "      <th>18</th>\n",
       "      <td>19</td>\n",
       "      <td>Mukesh Choudhary</td>\n",
       "      <td>3000000</td>\n",
       "      <td>3000000</td>\n",
       "      <td>Uncapped</td>\n",
       "    </tr>\n",
       "    <tr>\n",
       "      <th>19</th>\n",
       "      <td>20</td>\n",
       "      <td>Shaik Rasheed</td>\n",
       "      <td>3000000</td>\n",
       "      <td>3000000</td>\n",
       "      <td>Uncapped</td>\n",
       "    </tr>\n",
       "  </tbody>\n",
       "</table>\n",
       "</div>"
      ],
      "text/plain": [
       "    Sr. No.                Player  Base Price  Winning Bid Capped/Uncapped\n",
       "0         1            Noor Ahmad    20000000    100000000          Capped\n",
       "1         2  Ravichandaran Ashwin    20000000     97500000          Capped\n",
       "2         3          Devon Conway    20000000     62500000          Capped\n",
       "3         4    Syed Khaleel Ahmed    20000000     48000000          Capped\n",
       "4         5       Rachin Ravindra    15000000     40000000          Capped\n",
       "5         6         Anshul Kamboj     3000000     34000000        Uncapped\n",
       "6         7        Rahul Tripathi     7500000     34000000          Capped\n",
       "7         8            Sam Curran    20000000     24000000          Capped\n",
       "8         9      Gurjapneet Singh     3000000     22000000        Uncapped\n",
       "9        10          Nathan Ellis    12500000     20000000          Capped\n",
       "10       11          Deepak Hooda     7500000     17000000          Capped\n",
       "11       12         Jamie Overton    15000000     15000000          Capped\n",
       "12       13         Vijay Shankar     3000000     12000000        Uncapped\n",
       "13       14            Vansh Bedi     3000000      5500000        Uncapped\n",
       "14       15        Andre Siddarth     3000000      3000000        Uncapped\n",
       "15       16         Shreyas Gopal     3000000      3000000        Uncapped\n",
       "16       17     Ramakrishna Ghosh     3000000      3000000        Uncapped\n",
       "17       18     Kamlesh Nagarkoti     3000000      3000000        Uncapped\n",
       "18       19      Mukesh Choudhary     3000000      3000000        Uncapped\n",
       "19       20         Shaik Rasheed     3000000      3000000        Uncapped"
      ]
     },
     "execution_count": 8,
     "metadata": {},
     "output_type": "execute_result"
    }
   ],
   "source": [
    "csk.head(20)"
   ]
  },
  {
   "cell_type": "code",
   "execution_count": 9,
   "metadata": {},
   "outputs": [
    {
     "name": "stdout",
     "output_type": "stream",
     "text": [
      "0       Capped\n",
      "1       Capped\n",
      "2       Capped\n",
      "3       Capped\n",
      "4       Capped\n",
      "5     Uncapped\n",
      "6       Capped\n",
      "7       Capped\n",
      "8     Uncapped\n",
      "9       Capped\n",
      "10      Capped\n",
      "11      Capped\n",
      "12    Uncapped\n",
      "13    Uncapped\n",
      "14    Uncapped\n",
      "15    Uncapped\n",
      "16    Uncapped\n",
      "17    Uncapped\n",
      "18    Uncapped\n",
      "19    Uncapped\n",
      "Name: Capped/Uncapped, dtype: object\n"
     ]
    }
   ],
   "source": [
    "type_of_player = csk['Capped/Uncapped']\n",
    "print(type_of_player)"
   ]
  },
  {
   "cell_type": "code",
   "execution_count": 47,
   "metadata": {},
   "outputs": [
    {
     "name": "stdout",
     "output_type": "stream",
     "text": [
      "The teams spent on each player is [100000000, 97500000, 62500000, 48000000, 40000000, 34000000, 24000000, 22000000, 20000000, 17000000, 15000000, 12000000, 5500000, 3000000] \n",
      "and the net sum is 549500000\n",
      "None\n"
     ]
    }
   ],
   "source": [
    "players_salary = []\n",
    "salary = csk['Winning Bid'].unique()\n",
    "for s in salary:\n",
    "    players_salary.append(s)\n",
    "    \n",
    "print(f\"The teams spent on each player is {players_salary} \\nand the net sum is {total_money_used}\")\n",
    "costliest_purchase=players_salary.sort()\n",
    "print(costliest_purchase)\n",
    "\n",
    "\n",
    "\n"
   ]
  },
  {
   "cell_type": "code",
   "execution_count": null,
   "metadata": {},
   "outputs": [
    {
     "name": "stdout",
     "output_type": "stream",
     "text": [
      "Amount spent by csk:Rs. 549500000\n"
     ]
    }
   ],
   "source": [
    "csk_spent_amount = csk['Winning Bid'].sum()\n",
    "mi_spent_amount = mi['Winning Bid'].sum()\n",
    "dc_spent_amount = dc['Winning Bid'].sum()\n",
    "pbks_spent_amount = pbks['Winning Bid'].sum()\n",
    "lsg_spent_amount = lsg['Winning Bid'].sum()\n",
    "gt_spent_amount = gt['Winning Bid'].sum()\n",
    "rcb_spent_amount = rcb['Winning Bid'].sum()\n",
    "rr_spent_amount = rr['Winning Bid'].sum()\n",
    "kkr_spent_amount = kkr['Winning Bid'].sum()\n",
    "srh_spent_amount = srh['Winning Bid'].sum()\n",
    "\n",
    "\n"
   ]
  },
  {
   "cell_type": "code",
   "execution_count": null,
   "metadata": {},
   "outputs": [
    {
     "name": "stdout",
     "output_type": "stream",
     "text": [
      "CSK spent amount: Rs.549500000\n",
      "MI spent amount: Rs.448000000\n",
      "DC spent amount: Rs.728000000\n",
      "PBKS spent amount: Rs.1101500000\n",
      "LSG spent amount: Rs.689000000\n",
      "GT spent amount: Rs.688500000\n",
      "RCB spent amount: Rs.8225000000\n",
      "RR spent amount: Rs.4070000000\n",
      "KKR spent amount: Rs.509500000\n",
      "SRH spent amount: Rs.4480000000\n"
     ]
    }
   ],
   "source": [
    "# List of team names\n",
    "team_names = [\"csk\", \"mi\", \"dc\", \"pbks\", \"lsg\", \"gt\", \"rcb\", \"rr\", \"kkr\", \"srh\"]\n",
    "\n",
    "# Dictionary to store the total spent amount for each team\n",
    "team_spent_amount = {}\n",
    "\n",
    "# Iterate through each team and calculate the total spent amount\n",
    "for team in team_names:\n",
    "    # Adjust file name to match your naming convention\n",
    "    file_name = f\"{team.upper()}_Players_List.csv\"  # Convert team names to uppercase to match the file names\n",
    "    try:\n",
    "        # Load the CSV file\n",
    "        df = pd.read_csv(file_name)\n",
    "        \n",
    "        # Calculate the total spent amount\n",
    "        spent_amount = df['Winning Bid'].sum()\n",
    "        \n",
    "        # Store the result\n",
    "        team_spent_amount[team] = spent_amount\n",
    "    except FileNotFoundError:\n",
    "        print(f\"File not found for team: {team}\")\n",
    "    except Exception as e:\n",
    "        print(f\"An error occurred while processing {team}: {e}\")\n",
    "\n",
    "# Print the total spent amounts for each team\n",
    "for team, amount in team_spent_amount.items():\n",
    "    teams_expense = f\"{team.upper()} spent amount: Rs.{amount}\"\n",
    "    print(teams_expense)\n",
    "\n",
    "\n"
   ]
  },
  {
   "cell_type": "code",
   "execution_count": null,
   "metadata": {},
   "outputs": [],
   "source": []
  },
  {
   "cell_type": "code",
   "execution_count": null,
   "metadata": {},
   "outputs": [],
   "source": []
  }
 ],
 "metadata": {
  "kernelspec": {
   "display_name": "base",
   "language": "python",
   "name": "python3"
  },
  "language_info": {
   "codemirror_mode": {
    "name": "ipython",
    "version": 3
   },
   "file_extension": ".py",
   "mimetype": "text/x-python",
   "name": "python",
   "nbconvert_exporter": "python",
   "pygments_lexer": "ipython3",
   "version": "3.11.7"
  }
 },
 "nbformat": 4,
 "nbformat_minor": 2
}
