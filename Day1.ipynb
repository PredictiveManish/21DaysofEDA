{
 "cells": [
  {
   "cell_type": "code",
   "execution_count": null,
   "id": "c94ddad8",
   "metadata": {},
   "outputs": [],
   "source": [
    "import pandas as pd\n",
    "import numpy as np\n",
    "import seaborn as sns\n",
    "import matplotlib.pyplot as plt"
   ]
  },
  {
   "cell_type": "code",
   "execution_count": null,
   "id": "b99bc74b",
   "metadata": {},
   "outputs": [],
   "source": [
    "df = pd.read_csv('users.csv')\n",
    "df.head()"
   ]
  },
  {
   "cell_type": "markdown",
   "id": "218cfe4b",
   "metadata": {},
   "source": [
    "## Structure of dataset"
   ]
  },
  {
   "cell_type": "code",
   "execution_count": 15,
   "id": "24cd4235",
   "metadata": {},
   "outputs": [
    {
     "name": "stdout",
     "output_type": "stream",
     "text": [
      "(7, 4)\n"
     ]
    }
   ],
   "source": [
    "print(df.shape)"
   ]
  },
  {
   "cell_type": "code",
   "execution_count": 16,
   "id": "895692ef",
   "metadata": {},
   "outputs": [
    {
     "name": "stdout",
     "output_type": "stream",
     "text": [
      "Index(['user_id', 'name', 'email', 'password'], dtype='object')\n"
     ]
    }
   ],
   "source": [
    "print(df.columns)"
   ]
  },
  {
   "cell_type": "code",
   "execution_count": 17,
   "id": "647eccf9",
   "metadata": {},
   "outputs": [
    {
     "name": "stdout",
     "output_type": "stream",
     "text": [
      "user_id      int64\n",
      "name        object\n",
      "email       object\n",
      "password    object\n",
      "dtype: object\n"
     ]
    }
   ],
   "source": [
    "print(df.dtypes)"
   ]
  },
  {
   "cell_type": "markdown",
   "id": "1180122f",
   "metadata": {},
   "source": [
    "### Previewing the dataset"
   ]
  },
  {
   "cell_type": "code",
   "execution_count": 18,
   "id": "36c298f8",
   "metadata": {},
   "outputs": [
    {
     "name": "stdout",
     "output_type": "stream",
     "text": [
      "   user_id      name               email password\n",
      "0        1    Nitish    nitish@gmail.com    p252h\n",
      "1        2  Khushboo  khushboo@gmail.com    hxn9b\n",
      "2        3   Vartika   vartika@gmail.com    9hu7j\n",
      "3        4     Ankit     ankit@gmail.com    lkko3\n",
      "4        5      Neha      neha@gmail.com    3i7qm\n"
     ]
    }
   ],
   "source": [
    "print(df.head())"
   ]
  },
  {
   "cell_type": "code",
   "execution_count": 19,
   "id": "c358f13a",
   "metadata": {},
   "outputs": [
    {
     "name": "stdout",
     "output_type": "stream",
     "text": [
      "   user_id     name              email password\n",
      "2        3  Vartika  vartika@gmail.com    9hu7j\n",
      "3        4    Ankit    ankit@gmail.com    lkko3\n",
      "4        5     Neha     neha@gmail.com    3i7qm\n",
      "5        6  Anupama  anupama@gmail.com   46rdw2\n",
      "6        7  Rishabh  rishabh@gmail.com   4sw123\n"
     ]
    }
   ],
   "source": [
    "print(df.tail())"
   ]
  },
  {
   "cell_type": "code",
   "execution_count": 20,
   "id": "02b9bd71",
   "metadata": {},
   "outputs": [
    {
     "name": "stdout",
     "output_type": "stream",
     "text": [
      "   user_id      name               email password\n",
      "5        6   Anupama   anupama@gmail.com   46rdw2\n",
      "0        1    Nitish    nitish@gmail.com    p252h\n",
      "1        2  Khushboo  khushboo@gmail.com    hxn9b\n",
      "2        3   Vartika   vartika@gmail.com    9hu7j\n"
     ]
    }
   ],
   "source": [
    "print(df.sample(4))"
   ]
  },
  {
   "cell_type": "markdown",
   "id": "7964e687",
   "metadata": {},
   "source": [
    "## Missing value checks"
   ]
  },
  {
   "cell_type": "code",
   "execution_count": 21,
   "id": "dc1f821e",
   "metadata": {},
   "outputs": [
    {
     "name": "stdout",
     "output_type": "stream",
     "text": [
      "user_id     0\n",
      "name        0\n",
      "email       0\n",
      "password    0\n",
      "dtype: int64\n"
     ]
    }
   ],
   "source": [
    "print(df.isnull().sum())"
   ]
  },
  {
   "cell_type": "markdown",
   "id": "6f2fde2f",
   "metadata": {},
   "source": [
    "# Getting summary statistics"
   ]
  },
  {
   "cell_type": "code",
   "execution_count": 22,
   "id": "aab96794",
   "metadata": {},
   "outputs": [
    {
     "name": "stdout",
     "output_type": "stream",
     "text": [
      "        user_id\n",
      "count  7.000000\n",
      "mean   4.000000\n",
      "std    2.160247\n",
      "min    1.000000\n",
      "25%    2.500000\n",
      "50%    4.000000\n",
      "75%    5.500000\n",
      "max    7.000000\n"
     ]
    }
   ],
   "source": [
    "print(df.describe())"
   ]
  },
  {
   "cell_type": "code",
   "execution_count": 23,
   "id": "39ea3584",
   "metadata": {},
   "outputs": [
    {
     "name": "stdout",
     "output_type": "stream",
     "text": [
      "<class 'pandas.core.frame.DataFrame'>\n",
      "RangeIndex: 7 entries, 0 to 6\n",
      "Data columns (total 4 columns):\n",
      " #   Column    Non-Null Count  Dtype \n",
      "---  ------    --------------  ----- \n",
      " 0   user_id   7 non-null      int64 \n",
      " 1   name      7 non-null      object\n",
      " 2   email     7 non-null      object\n",
      " 3   password  7 non-null      object\n",
      "dtypes: int64(1), object(3)\n",
      "memory usage: 356.0+ bytes\n",
      "None\n"
     ]
    }
   ],
   "source": [
    "print(df.info())"
   ]
  },
  {
   "cell_type": "code",
   "execution_count": null,
   "id": "a17661aa",
   "metadata": {},
   "outputs": [],
   "source": []
  }
 ],
 "metadata": {
  "kernelspec": {
   "display_name": "myenv",
   "language": "python",
   "name": "python3"
  },
  "language_info": {
   "codemirror_mode": {
    "name": "ipython",
    "version": 3
   },
   "file_extension": ".py",
   "mimetype": "text/x-python",
   "name": "python",
   "nbconvert_exporter": "python",
   "pygments_lexer": "ipython3",
   "version": "3.13.2"
  }
 },
 "nbformat": 4,
 "nbformat_minor": 5
}
